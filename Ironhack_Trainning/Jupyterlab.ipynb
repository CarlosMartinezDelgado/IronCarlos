{
 "cells": [
  {
   "cell_type": "markdown",
   "id": "6bc30765",
   "metadata": {
    "slideshow": {
     "slide_type": "slide"
    }
   },
   "source": [
    "<H1 style=\"color:#120A8F\"> Holidays preference \n",
    "    \n",
    "## Quick links\n",
    "[Who am I](#whoamI) <br>\n",
    "[Picture of my dream](#Maldives) <br>\n",
    "[What I will do?](#whatToDo) <br>\n",
    "[Video](#video) <br>\n",
    "    \n",
    "## Introduction\n",
    "I will introduce myself and my holidays preference with a picture and a link to a youtube video of it\n",
    "\n",
    "\n",
    "<H2><a id = \"whoamI\">\"Who am I ?\"</a></H2>"
   ]
  },
  {
   "cell_type": "code",
   "execution_count": null,
   "id": "4572708b",
   "metadata": {
    "slideshow": {
     "slide_type": "slide"
    }
   },
   "outputs": [],
   "source": [
    "#This function will get the user´s name and print it\n",
    "def whoAmI (userName):\n",
    "    print (\"My name is \" + userName + \" !\")\n",
    "    print (\"I live in Berlin since 3 years now. Here you have a picture of mine !!!\")\n",
    "    \n",
    "whoAmI(\"Carlos\")"
   ]
  },
  {
   "cell_type": "markdown",
   "id": "1e2ba456",
   "metadata": {
    "slideshow": {
     "slide_type": "subslide"
    }
   },
   "source": [
    "<img align=\"left\" src=\"images/MyPicture.jpg\" width =200 height=200/>"
   ]
  },
  {
   "cell_type": "code",
   "execution_count": null,
   "id": "5fa9b654",
   "metadata": {
    "slideshow": {
     "slide_type": "subslide"
    }
   },
   "outputs": [],
   "source": [
    "#This function takes three parameters\n",
    "#     parameter 1 = destiny = my favorite destiny, \n",
    "#     parameter 2 = persons = with whom I would like to go,\n",
    "#     parameter 3 = bestMonth = the best month to me for being there\n",
    "# and will print the result \n",
    "def myHoliday (destiny, persons, bestMonth ):\n",
    "    print (\"I am dreaming about going to \" + destiny + \" with \" + persons + \". I would rather going on \" + bestMonth)\n",
    "\n",
    "myHoliday (\"Maldives\",\" my family\",\"July\")"
   ]
  },
  {
   "cell_type": "markdown",
   "id": "d8d8c242",
   "metadata": {
    "slideshow": {
     "slide_type": "slide"
    }
   },
   "source": [
    "<H2><a id = \"Maldives\">\"My dream is Maldives\"</a></H2>\n",
    "<img src=\"images/viajar-a-Islas-Maldivas.jpg\">\n",
    "\n",
    "<H2><a id = \"whatToDo\">\"What I would like to do while being there?\"</a></H2>\n",
    "\n",
    "I would like to do **nothing at all** just chill out <img src=\"images/smile-emoji.png\" width =100 height=100/>\n",
    "\n",
    "However, to provide some details let me mention a list of things that I would do while being there\n",
    "- Having a good dinner with my family\n",
    "- Going with my famiy to the **swimming pool** or to the <p style=\"font-size:30px; color:red\">BEACH.</p>\n",
    "\n",
    "<H2><a id = \"video\">\"Introduction to Maldives\"</a></H2> \n",
    "\n",
    "Please click in the link below to get a video with an introduction to my dream destination\n",
    "\n",
    "<a href=\"https://www.youtube.com/watch?v=GIimOIZy-RA\">Introduction to Maldives\n",
    "\n"
   ]
  },
  {
   "cell_type": "code",
   "execution_count": null,
   "id": "077cab48",
   "metadata": {
    "slideshow": {
     "slide_type": "skip"
    }
   },
   "outputs": [],
   "source": []
  }
 ],
 "metadata": {
  "celltoolbar": "Slideshow",
  "kernelspec": {
   "display_name": "Python 3",
   "language": "python",
   "name": "python3"
  },
  "language_info": {
   "codemirror_mode": {
    "name": "ipython",
    "version": 3
   },
   "file_extension": ".py",
   "mimetype": "text/x-python",
   "name": "python",
   "nbconvert_exporter": "python",
   "pygments_lexer": "ipython3",
   "version": "3.8.8"
  }
 },
 "nbformat": 4,
 "nbformat_minor": 5
}
